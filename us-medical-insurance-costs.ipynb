{
 "cells": [
  {
   "cell_type": "markdown",
   "metadata": {},
   "source": [
    "# U.S. Medical Insurance Costs"
   ]
  },
  {
   "cell_type": "markdown",
   "metadata": {},
   "source": [
    "Goal:\n",
    "To analyze, explore and compare the relationship between different variables that contribute to formulating the insurance charges for an individual.\n",
    "\n",
    "Data used:\n",
    "Medical Insurance Costs dataset from Kaggle.com\n",
    "The information points we are given: age, sex, BMI, number of children, smoker?, region within USA, insurance charges\n",
    "\n",
    "Analysis:\n",
    "1.  Determine the number of males vs females in the data. Is there an approximate 50-50 split?\n",
    "2.  What is the average age of the insured indivuals?\n",
    "3.1 Find out the average insurance charge for smokers vs non-smokers.\n",
    "3.2 Find out the average insurance charge for females vs males.\n",
    "4.1 Which region has the most insured individuals?\n",
    "4.2 Which region has the lowest and highest average insurance charges?\n",
    "5.1 What is the average bmi for smokers vs non-smokers?\n",
    "5.2 What is the average bmi for females vs males?\n",
    "6.1 Analyze insurance charges for an individual with no children compared to an individual with 3 or more children\n",
    "6.2 Find out the average insurance charge for individuals in the healthy BMI range (18.5 - 24.9)\n",
    "\n"
   ]
  },
  {
   "cell_type": "code",
   "execution_count": 52,
   "metadata": {},
   "outputs": [],
   "source": [
    "#Import csv library \n",
    "import csv"
   ]
  },
  {
   "cell_type": "code",
   "execution_count": 53,
   "metadata": {},
   "outputs": [],
   "source": [
    "# Create empty lists for the different columns in insurance.csv\n",
    "ages = []\n",
    "sexes = []\n",
    "bmis = []\n",
    "num_children = []\n",
    "smoker_status = []\n",
    "regions = []\n",
    "ins_charges = []"
   ]
  },
  {
   "cell_type": "code",
   "execution_count": 54,
   "metadata": {},
   "outputs": [],
   "source": [
    "# Create helper function to load csv data into lists\n",
    "def create_list_data(new_list, csv_file, col_name):\n",
    "   \n",
    "    with open(csv_file, newline='') as csv_file_info:\n",
    "        csv_dict = csv.DictReader(csv_file_info)\n",
    "        for row in csv_dict:\n",
    "            new_list.append(row[col_name])\n",
    "        return new_list \n",
    "\n"
   ]
  },
  {
   "cell_type": "code",
   "execution_count": 55,
   "metadata": {},
   "outputs": [
    {
     "name": "stdout",
     "output_type": "stream",
     "text": [
      "BMI list ['27.9', '33.77', '33', '22.705', '28.88', '25.74', '33.44', '27.74', '29.83', '25.84', '26.22', '26.29', '34.4', '39.82', '42.13']\n",
      "Sexes: ['female', 'male', 'male', 'male', 'male', 'female', 'female', 'female', 'male', 'female', 'male', 'female', 'male', 'female', 'male']\n"
     ]
    }
   ],
   "source": [
    "create_list_data(ages, 'insurance.csv', 'age')\n",
    "create_list_data(sexes, 'insurance.csv', 'sex')\n",
    "create_list_data(bmis, 'insurance.csv', 'bmi')\n",
    "create_list_data(num_children, 'insurance.csv', 'children')\n",
    "create_list_data(smoker_status, 'insurance.csv', 'smoker')\n",
    "create_list_data(regions, 'insurance.csv', 'region')\n",
    "create_list_data(ins_charges, 'insurance.csv', 'charges')\n",
    "\n",
    "#Check if a list is created\n",
    "print(\"BMI list\", bmis[:15])  \n",
    "print(\"Sexes:\", sexes[:15])  "
   ]
  },
  {
   "cell_type": "markdown",
   "metadata": {},
   "source": [
    "Now that the lists are created, I can analyze the data."
   ]
  },
  {
   "cell_type": "markdown",
   "metadata": {},
   "source": [
    "1. Determine the number of males vs females in the data. Is there an approximate 50-50 split?"
   ]
  },
  {
   "cell_type": "code",
   "execution_count": 63,
   "metadata": {},
   "outputs": [
    {
     "name": "stdout",
     "output_type": "stream",
     "text": [
      "The total number of individuals in our data set is: 1338\n"
     ]
    }
   ],
   "source": [
    "# Total number of individuals in data set:\n",
    "total_pop= len(sexes)\n",
    "\n",
    "print(f\"The total number of individuals in our data set is:\",total_pop)"
   ]
  },
  {
   "cell_type": "code",
   "execution_count": 64,
   "metadata": {},
   "outputs": [
    {
     "name": "stdout",
     "output_type": "stream",
     "text": [
      "The number of females in the data set is:  662\n",
      "Percentage female: 49 1\n",
      "The number of males in the data set is:  676\n",
      "Percentage male: 50.5\n"
     ]
    },
    {
     "data": {
      "text/plain": [
       "True"
      ]
     },
     "execution_count": 64,
     "metadata": {},
     "output_type": "execute_result"
    }
   ],
   "source": [
    "# There are 1338 individuals in the data set\n",
    "num_of_females = sexes.count('female')\n",
    "num_of_males = sexes.count('male')\n",
    "\n",
    "print(f\"The number of females in the data set is: \", num_of_females)\n",
    "print(f\"Percentage female:\", round(num_of_females/len(sexes)*100),1)\n",
    "print(f\"The number of males in the data set is: \", num_of_males)\n",
    "print(f\"Percentage male:\", round(num_of_males/len(sexes)*100,1))\n",
    "num_of_females + num_of_males == 1338"
   ]
  },
  {
   "cell_type": "markdown",
   "metadata": {},
   "source": [
    "There seems to be a good distribution between males vs females in the data, with approx 51% males and 49% females."
   ]
  },
  {
   "cell_type": "markdown",
   "metadata": {},
   "source": [
    "Next, let's determine the average age of the insured indivuals."
   ]
  },
  {
   "cell_type": "code",
   "execution_count": 65,
   "metadata": {},
   "outputs": [
    {
     "name": "stdout",
     "output_type": "stream",
     "text": [
      "The average age of the insured individuals is: 39.2\n"
     ]
    }
   ],
   "source": [
    "#First we need to convert each age which is a string into a float\n",
    "ages = [float(i) for i in ages]\n",
    "\n",
    "ave_age = sum(ages)/len(ages)\n",
    "print(f\"The average age of the insured individuals is:\", round(ave_age,1))"
   ]
  },
  {
   "cell_type": "markdown",
   "metadata": {},
   "source": [
    "This is a fairly young age. \n",
    "Let's see how many males & females aged 50 years and above, are insured."
   ]
  },
  {
   "cell_type": "code",
   "execution_count": 66,
   "metadata": {},
   "outputs": [
    {
     "name": "stdout",
     "output_type": "stream",
     "text": [
      "The number of females aged 50 and over that are insured:  195\n",
      "The number of males aged 50 and over that are insured:  190\n"
     ]
    }
   ],
   "source": [
    "male_50_over = 0\n",
    "female_50_over = 0\n",
    "\n",
    "for i in range(len(ages)):\n",
    "    if ages[i] >= 50:\n",
    "        if sexes[i] == 'female':\n",
    "            female_50_over += 1\n",
    "        elif sexes[i] == 'male':\n",
    "            male_50_over +=1\n",
    "\n",
    "print(f\"The number of females aged 50 and over that are insured: \", female_50_over)    \n",
    "print(f\"The number of males aged 50 and over that are insured: \", male_50_over)           "
   ]
  },
  {
   "cell_type": "markdown",
   "metadata": {},
   "source": [
    "This is quite low considering that there are over 1300 people in the data set.\n",
    "Is insurance too high for older individuals to afford?\n",
    "Or do they not feel it is necessary at their age?\n",
    "Or is there some other reason?\n",
    "These questions would need to be explored using additional data."
   ]
  },
  {
   "cell_type": "markdown",
   "metadata": {},
   "source": [
    "Next, let's explore how smoking affects insurance costs.\n",
    "\n",
    "We'll find out the average insurance charge for smokers vs non-smokers."
   ]
  },
  {
   "cell_type": "code",
   "execution_count": 76,
   "metadata": {},
   "outputs": [
    {
     "name": "stdout",
     "output_type": "stream",
     "text": [
      "The number of female smokers that are insured:  115\n",
      "The number of male smokers that are insured:  159\n",
      "Total smokers: 274\n",
      "Percentage of smokers in data set: 20 2\n"
     ]
    }
   ],
   "source": [
    "# First, let's get the smoker numbers\n",
    "male_smoker = 0\n",
    "female_smoker = 0\n",
    "\n",
    "for i in range(len(sexes)):\n",
    "    if smoker_status[i] == 'yes':\n",
    "        if sexes[i] == 'female':\n",
    "            female_smoker += 1\n",
    "        elif sexes[i] == 'male':\n",
    "            male_smoker +=1\n",
    "\n",
    "print(f\"The number of female smokers that are insured: \", female_smoker)    \n",
    "print(f\"The number of male smokers that are insured: \", male_smoker)     \n",
    "print(f\"Total smokers:\", smoker_status.count('yes'))\n",
    "print(f\"Percentage of smokers in data set:\" , round(smoker_status.count('yes')/len(smoker_status)*100),2)"
   ]
  },
  {
   "cell_type": "code",
   "execution_count": 84,
   "metadata": {},
   "outputs": [
    {
     "name": "stdout",
     "output_type": "stream",
     "text": [
      "The average insurance costs for a smoker: 32050.23\n",
      "The average insurance costs for a non-smoker 8434.27\n",
      "The average insurance costs for the total data set: 13270 2\n"
     ]
    }
   ],
   "source": [
    "#We need to convert each insurance cost from a string into a float\n",
    "ins_charges = [float(i) for i in ins_charges]\n",
    "\n",
    "tot_ins_charge_smoker = 0\n",
    "tot_ins_charge_non_smoker = 0\n",
    "\n",
    "for i in range(len(ins_charges)):\n",
    "    if smoker_status[i] == 'yes':\n",
    "        tot_ins_charge_smoker += ins_charges[i]\n",
    "    elif smoker_status[i] == 'no':\n",
    "        tot_ins_charge_non_smoker += ins_charges[i]\n",
    "\n",
    "ave_ins_charge_smoker = round(tot_ins_charge_smoker/smoker_status.count('yes'),2)\n",
    "ave_ins_charge_non_smoker = round(tot_ins_charge_non_smoker/smoker_status.count('no'),2)   \n",
    "\n",
    "print(f\"The average insurance costs for a smoker:\",ave_ins_charge_smoker)\n",
    "print(f\"The average insurance costs for a non-smoker\",ave_ins_charge_non_smoker)\n",
    "print(f\"The average insurance costs for the total data set:\", round(sum(ins_charges)/len(ins_charges)),2)"
   ]
  },
  {
   "cell_type": "markdown",
   "metadata": {},
   "source": [
    "Smoking considerably increases an individual's insurance costs!\n",
    "In order to pay less in insurance -> STOP smoking!"
   ]
  },
  {
   "cell_type": "markdown",
   "metadata": {},
   "source": [
    "Next, we'll look at the average insurance costs of females vs males"
   ]
  },
  {
   "cell_type": "code",
   "execution_count": 105,
   "metadata": {},
   "outputs": [
    {
     "name": "stdout",
     "output_type": "stream",
     "text": [
      "The average insurance costs for a female: 12569.58\n",
      "The average insurance costs for a male: 13956.75\n"
     ]
    }
   ],
   "source": [
    "tot_ins_charge_female = 0\n",
    "tot_ins_charge_male = 0\n",
    "\n",
    "for i in range(len(ins_charges)):\n",
    "    if sexes[i] == 'female':\n",
    "        tot_ins_charge_female += ins_charges[i]\n",
    "    elif sexes[i] == 'male':\n",
    "        tot_ins_charge_male += ins_charges[i]\n",
    "\n",
    "ave_ins_charge_female = round(tot_ins_charge_female/num_of_females,2)\n",
    "ave_ins_charge_male = round(tot_ins_charge_male/num_of_males,2)   \n",
    "\n",
    "print(f\"The average insurance costs for a female:\",ave_ins_charge_female)\n",
    "print(f\"The average insurance costs for a male:\",ave_ins_charge_male)"
   ]
  },
  {
   "cell_type": "markdown",
   "metadata": {},
   "source": [
    "In our data set, the average insurance cost for a male is slightly higher than for a female."
   ]
  },
  {
   "cell_type": "code",
   "execution_count": null,
   "metadata": {},
   "outputs": [],
   "source": []
  },
  {
   "cell_type": "markdown",
   "metadata": {},
   "source": [
    "Next, we will analyze the data by regions, and determine which region has the most insured individuals?"
   ]
  },
  {
   "cell_type": "code",
   "execution_count": 88,
   "metadata": {},
   "outputs": [
    {
     "name": "stdout",
     "output_type": "stream",
     "text": [
      "Regions list: ['southwest', 'southeast', 'northwest', 'northeast']\n"
     ]
    }
   ],
   "source": [
    "# First we need to determine how many regions there are in our data set\n",
    "\n",
    "unique_regions = []\n",
    "for region in regions:\n",
    "    if region not in unique_regions:\n",
    "        unique_regions.append(region)\n",
    "\n",
    "print(f\"Regions list:\",unique_regions)        "
   ]
  },
  {
   "cell_type": "code",
   "execution_count": 91,
   "metadata": {},
   "outputs": [
    {
     "name": "stdout",
     "output_type": "stream",
     "text": [
      "325 individuals in our insurance dataset live in the South West US.\n",
      "364 individuals in our insurance dataset live in the South East US.\n",
      "325 individuals in our insurance dataset live in the North West US.\n",
      "324 individuals in our insurance dataset live in the North East US.\n"
     ]
    }
   ],
   "source": [
    "total_ins_sw = 0\n",
    "total_ins_se = 0\n",
    "total_ins_nw = 0\n",
    "total_ins_ne = 0\n",
    "\n",
    "for i in range(len(regions)):\n",
    "    if regions[i] == 'southwest':\n",
    "        total_ins_sw += 1\n",
    "    elif regions[i] == 'southeast':\n",
    "        total_ins_se += 1\n",
    "    elif regions[i] == 'northwest':\n",
    "        total_ins_nw += 1  \n",
    "    elif regions[i] == 'northeast':\n",
    "        total_ins_ne += 1      \n",
    "\n",
    "print(str(total_ins_sw) + \" individuals in our insurance dataset live in the South West US.\")\n",
    "print(str(total_ins_se) + \" individuals in our insurance dataset live in the South East US.\")\n",
    "print(str(total_ins_nw) + \" individuals in our insurance dataset live in the North West US.\")\n",
    "print(str(total_ins_ne) + \" individuals in our insurance dataset live in the North East US.\")"
   ]
  },
  {
   "cell_type": "markdown",
   "metadata": {},
   "source": [
    "The South East US has the most insured individuals with 364. This is not extraordinarily higher than the other regions, which have a very similar amount of individuals.\n",
    "\n",
    "Next, we'll determine which region has the highest & lowest average insurance charges?"
   ]
  },
  {
   "cell_type": "code",
   "execution_count": 93,
   "metadata": {},
   "outputs": [
    {
     "name": "stdout",
     "output_type": "stream",
     "text": [
      "The average insurance costs for the individuals living in the SW is $ 12346.94\n",
      "The average insurance costs for the individuals living in the SE is $ 14735.41\n",
      "The average insurance costs for the individuals living in the NW is $ 12417.58\n",
      "The average insurance costs for the individuals living in the NE is $ 13406.38\n"
     ]
    }
   ],
   "source": [
    "total_ins_charges_sw = 0\n",
    "total_ins_charges_se = 0\n",
    "total_ins_charges_nw = 0\n",
    "total_ins_charges_ne = 0\n",
    "\n",
    "for i in range(len(regions)):\n",
    "    if regions[i] == 'southwest':\n",
    "        total_ins_charges_sw += ins_charges[i]\n",
    "        ave_ins_charge_sw = total_ins_charges_sw/total_ins_sw\n",
    "    elif regions[i] == 'southeast':\n",
    "        total_ins_charges_se += ins_charges[i]\n",
    "        ave_ins_charge_se = total_ins_charges_se/total_ins_se\n",
    "    elif regions[i] == 'northwest':\n",
    "        total_ins_charges_nw += ins_charges[i]\n",
    "        ave_ins_charge_nw = total_ins_charges_nw/total_ins_nw\n",
    "    elif regions[i] == 'northeast':\n",
    "        total_ins_charges_ne += ins_charges[i]\n",
    "        ave_ins_charge_ne = total_ins_charges_ne/total_ins_ne       \n",
    "\n",
    "print(f\"The average insurance costs for the individuals living in the SW is $\", round(ave_ins_charge_sw,2))\n",
    "print(f\"The average insurance costs for the individuals living in the SE is $\", round(ave_ins_charge_se,2))\n",
    "print(f\"The average insurance costs for the individuals living in the NW is $\", round(ave_ins_charge_nw,2))\n",
    "print(f\"The average insurance costs for the individuals living in the NE is $\", round(ave_ins_charge_ne,2))\n"
   ]
  },
  {
   "cell_type": "markdown",
   "metadata": {},
   "source": [
    "The SE again has the highest average insurance costs.\n",
    "The SW has the lowest average insurance costs."
   ]
  },
  {
   "cell_type": "markdown",
   "metadata": {},
   "source": [
    "Next, we'll look at BMI' of smokers vs non-smokers:"
   ]
  },
  {
   "cell_type": "code",
   "execution_count": 94,
   "metadata": {},
   "outputs": [
    {
     "name": "stdout",
     "output_type": "stream",
     "text": [
      "The average BMI for a smoker: 30.71\n",
      "The average BMI for a non-smoker 30.65\n"
     ]
    }
   ],
   "source": [
    "#We need to convert each bmi from a string into a float\n",
    "bmis = [float(i) for i in bmis]\n",
    "\n",
    "tot_bmis_smoker = 0\n",
    "tot_bmis_non_smoker = 0\n",
    "\n",
    "for i in range(len(bmis)):\n",
    "    if smoker_status[i] == 'yes':\n",
    "        tot_bmis_smoker += bmis[i]\n",
    "    elif smoker_status[i] == 'no':\n",
    "        tot_bmis_non_smoker += bmis[i]\n",
    "\n",
    "ave_bmis_smoker = round(tot_bmis_smoker/smoker_status.count('yes'),2)\n",
    "ave_bmis_non_smoker = round(tot_bmis_non_smoker/smoker_status.count('no'),2)   \n",
    "\n",
    "print(f\"The average BMI for a smoker:\",ave_bmis_smoker)\n",
    "print(f\"The average BMI for a non-smoker\",ave_bmis_non_smoker)\n"
   ]
  },
  {
   "cell_type": "markdown",
   "metadata": {},
   "source": [
    "This is interesting, as the average BMI for smokers vs non-smokers is very similar.\n",
    "\n",
    "According to the NHS in the UK:\n",
    "\n",
    "If your BMI is:\n",
    "below 18.5 – you're in the underweight range\n",
    "between 18.5 and 24.9 – you're in the healthy weight range\n",
    "between 25 and 29.9 – you're in the overweight range\n",
    "between 30 and 39.9 – you're in the obese range\n",
    "\n",
    "The average BMI of smokers AND non-smokers is in the obese range. This also increases their insurance costs.\n",
    "\n",
    "Next, we'll explore females vs males' BMI's."
   ]
  },
  {
   "cell_type": "code",
   "execution_count": 95,
   "metadata": {},
   "outputs": [
    {
     "name": "stdout",
     "output_type": "stream",
     "text": [
      "The average BMI for a female is: 30.38\n",
      "The average BMI for a male is: 30.94\n"
     ]
    }
   ],
   "source": [
    "tot_bmis_female = 0\n",
    "tot_bmis_male = 0\n",
    "\n",
    "for i in range(len(bmis)):\n",
    "    if sexes[i] == 'female':\n",
    "        tot_bmis_female += bmis[i]\n",
    "    elif sexes[i] == 'male':\n",
    "        tot_bmis_male += bmis[i]\n",
    "\n",
    "ave_bmis_female = round(tot_bmis_female/num_of_females,2)\n",
    "ave_bmis_male = round(tot_bmis_male/num_of_males,2)   \n",
    "\n",
    "print(f\"The average BMI for a female is:\",ave_bmis_female)\n",
    "print(f\"The average BMI for a male is:\",ave_bmis_male)"
   ]
  },
  {
   "cell_type": "markdown",
   "metadata": {},
   "source": [
    "The males in the data set have a slightly higher BMI than the females, but they are both above 30, and hence in the obese range.\n",
    "Certainly their diets need to be changed in order to lose weight, reducing their BMI's, and therefore reducing their insurance costs."
   ]
  },
  {
   "cell_type": "markdown",
   "metadata": {},
   "source": [
    "Let's find out the average insurance charge for the healthy BMI range (18.5 - 24.9)"
   ]
  },
  {
   "cell_type": "markdown",
   "metadata": {},
   "source": [
    "Now, let's analyze average insurance charges for an individual with no children compared to an individual with 3 or more children."
   ]
  },
  {
   "cell_type": "code",
   "execution_count": 103,
   "metadata": {},
   "outputs": [
    {
     "name": "stdout",
     "output_type": "stream",
     "text": [
      "Number of individuals with no children: 574\n",
      "Number of individuals with 3 or more children: 200\n"
     ]
    }
   ],
   "source": [
    "# First convert number of children to float from string\n",
    "num_children = [float(i) for i in num_children]\n",
    "\n",
    "# Number of individuals with NO children\n",
    "num_no_children = num_children.count(0) \n",
    "\n",
    "# Number of individuals with 3 or more children\n",
    "num_3_more_children = 0\n",
    "for i in range(len(num_children)):\n",
    "    if num_children[i] >= 3:\n",
    "        num_3_more_children += 1\n",
    "\n",
    "\n",
    "print(f\"Number of individuals with no children:\", num_no_children)   \n",
    "print(f\"Number of individuals with 3 or more children:\", num_3_more_children)      \n"
   ]
  },
  {
   "cell_type": "code",
   "execution_count": 104,
   "metadata": {},
   "outputs": [
    {
     "name": "stdout",
     "output_type": "stream",
     "text": [
      "The average insurance costs for an individual with no children: 12365.98\n",
      "The average insurance costs for an individual with 3 or more children: 14576.0\n"
     ]
    }
   ],
   "source": [
    "tot_ins_no_children = 0\n",
    "tot_ins_3_more_children = 0\n",
    "\n",
    "for i in range(len(ins_charges)):\n",
    "    if num_children[i] == 0:\n",
    "        tot_ins_no_children += ins_charges[i]\n",
    "    elif num_children[i] >= 3:\n",
    "        tot_ins_3_more_children += ins_charges[i]\n",
    "\n",
    "ave_ins_no_children = round(tot_ins_no_children/num_no_children,2)\n",
    "ave_ins_3_more_children = round(tot_ins_3_more_children/num_3_more_children,2)   \n",
    "\n",
    "print(f\"The average insurance costs for an individual with no children:\",ave_ins_no_children)\n",
    "print(f\"The average insurance costs for an individual with 3 or more children:\",ave_ins_3_more_children)"
   ]
  },
  {
   "cell_type": "markdown",
   "metadata": {},
   "source": [
    "We can see that the average insurance cost for an individual with no children is about $2000 less than an individual with 3 or more children."
   ]
  },
  {
   "cell_type": "markdown",
   "metadata": {},
   "source": [
    "Lastly, let's find out the average insurance charge for an individual in the healthy BMI range (18.5 - 24.9)"
   ]
  },
  {
   "cell_type": "code",
   "execution_count": 107,
   "metadata": {},
   "outputs": [
    {
     "name": "stdout",
     "output_type": "stream",
     "text": [
      "The percentage of our data set who have a healthy BMI of between 18.5 and 24.9 is: 16.59%\n",
      "The average insurance cost for an individual with a healthy BMI is: $ 10379 2\n"
     ]
    }
   ],
   "source": [
    "num_healthy_bmis = 0\n",
    "tot_ins_charges_healty_bmis = 0\n",
    "\n",
    "for i in range(len(bmis)):\n",
    "    if bmis[i] >= 18.5 and bmis[i] <= 24.9:\n",
    "        num_healthy_bmis += 1\n",
    "        tot_ins_charges_healty_bmis += ins_charges[i]\n",
    "\n",
    "\n",
    "percent_healthy_bmis = round((num_healthy_bmis/len(bmis))*100,2)\n",
    "ave_ins_healthy_bmis = tot_ins_charges_healty_bmis/num_healthy_bmis\n",
    "\n",
    "print(\"The percentage of our data set who have a healthy BMI of between 18.5 and 24.9 is: \" + str(percent_healthy_bmis) + \"%\" )\n",
    "print(f\"The average insurance cost for an individual with a healthy BMI is: $\",round(ave_ins_healthy_bmis),2)"
   ]
  },
  {
   "cell_type": "markdown",
   "metadata": {},
   "source": [
    "A very small percentage of the data set have a healthy BMI - at only 16.59%!\n",
    "A healthy BMI contributes to a lower insurance cost."
   ]
  },
  {
   "cell_type": "markdown",
   "metadata": {},
   "source": [
    "Conclusions:\n",
    "\n",
    "The biggest factor contributing to high insurance costs is whether someone is a smoker or not."
   ]
  }
 ],
 "metadata": {
  "kernelspec": {
   "display_name": "Python 3.9.12 ('base')",
   "language": "python",
   "name": "python3"
  },
  "language_info": {
   "codemirror_mode": {
    "name": "ipython",
    "version": 3
   },
   "file_extension": ".py",
   "mimetype": "text/x-python",
   "name": "python",
   "nbconvert_exporter": "python",
   "pygments_lexer": "ipython3",
   "version": "3.9.12"
  },
  "vscode": {
   "interpreter": {
    "hash": "40d3a090f54c6569ab1632332b64b2c03c39dcf918b08424e98f38b5ae0af88f"
   }
  }
 },
 "nbformat": 4,
 "nbformat_minor": 4
}

{
 "cells": [
  {
   "cell_type": "markdown",
   "metadata": {},
   "source": [
    "# U.S. Medical Insurance Costs"
   ]
  },
  {
   "cell_type": "markdown",
   "metadata": {},
   "source": [
    "Goal:\n",
    "To analyze, explore and compare the relationship between different variables that contribute to formulating the insurance charges for an individual.\n",
    "\n",
    "Data used:\n",
    "Medical Insurance Costs dataset from Kaggle.com\n",
    "The information we are given: age, sex, BMI, number of children, smoker?, region within USA, insurance charges\n",
    "\n",
    "Analysis:\n",
    "1. \n",
    "2. \n",
    "3. \n",
    "4. \n",
    "5. \n",
    "\n"
   ]
  },
  {
   "cell_type": "code",
   "execution_count": 29,
   "metadata": {},
   "outputs": [],
   "source": [
    "import csv"
   ]
  },
  {
   "cell_type": "code",
   "execution_count": 30,
   "metadata": {},
   "outputs": [],
   "source": [
    "# Create empty lists for the different columns in insurance.csv\n",
    "ages = []\n",
    "sexes = []\n",
    "bmis = []\n",
    "num_children = []\n",
    "smoker_status = []\n",
    "regions = []\n",
    "ins_charges = []"
   ]
  },
  {
   "cell_type": "code",
   "execution_count": 37,
   "metadata": {},
   "outputs": [],
   "source": [
    "# Create helper function to load csv data into lists\n",
    "def create_list_data(new_list, csv_file, col_name):\n",
    "   \n",
    "    with open(csv_file) as csv_file_info:\n",
    "        csv_dict = csv.DictReader(csv_file_info)\n",
    "        for row in csv_dict:\n",
    "            new_list.append(row[col_name])\n",
    "        return new_list "
   ]
  },
  {
   "cell_type": "code",
   "execution_count": 39,
   "metadata": {},
   "outputs": [
    {
     "name": "stdout",
     "output_type": "stream",
     "text": [
      "Age list []\n"
     ]
    }
   ],
   "source": [
    "create_list_data(ages, 'insurance.csv', 'age')\n",
    "create_list_data(sexes, 'insurance.csv', 'sex')\n",
    "create_list_data(bmis, 'insurance.csv', 'bmi')\n",
    "create_list_data(num_children, 'insurance.csv', 'children')\n",
    "create_list_data(smoker_status, 'insurance.csv', 'smoker')\n",
    "create_list_data(regions, 'insurance.csv', 'region')\n",
    "create_list_data(ins_charges, 'insurance.csv', 'charges')\n",
    "\n",
    "print(\"Age list\", ages)    "
   ]
  },
  {
   "cell_type": "code",
   "execution_count": null,
   "metadata": {},
   "outputs": [],
   "source": []
  },
  {
   "cell_type": "code",
   "execution_count": null,
   "metadata": {},
   "outputs": [],
   "source": []
  }
 ],
 "metadata": {
  "kernelspec": {
   "display_name": "Python 3 (ipykernel)",
   "language": "python",
   "name": "python3"
  },
  "language_info": {
   "codemirror_mode": {
    "name": "ipython",
    "version": 3
   },
   "file_extension": ".py",
   "mimetype": "text/x-python",
   "name": "python",
   "nbconvert_exporter": "python",
   "pygments_lexer": "ipython3",
   "version": "3.9.12"
  }
 },
 "nbformat": 4,
 "nbformat_minor": 4
}
